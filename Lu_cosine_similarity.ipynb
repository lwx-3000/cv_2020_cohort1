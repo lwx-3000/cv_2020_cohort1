{
 "cells": [
  {
   "cell_type": "code",
   "execution_count": 1,
   "metadata": {},
   "outputs": [],
   "source": [
    "import pandas as pd\n",
    "import numpy as np\n",
    "import math as mt\n",
    "from pathlib import Path\n",
    "import os"
   ]
  },
  {
   "cell_type": "code",
   "execution_count": 2,
   "metadata": {},
   "outputs": [],
   "source": [
    "# DATA = Path('.').resolve().parents[1] / '/git'\n",
    "# Practice_data = 'practice_data.csv'"
   ]
  },
  {
   "cell_type": "code",
   "execution_count": 3,
   "metadata": {},
   "outputs": [],
   "source": [
    "class cosine_sim:\n",
    "    def __init__(self,name): \n",
    "        self.name = name\n",
    "        return\n",
    "    def cos_sim(self, a, b):\n",
    "        xx , xy , yy = 0,0,0\n",
    "        for i in range(len(a)):\n",
    "            x = a[i]; y = b[i]\n",
    "            xx += x*x\n",
    "            yy += y*y\n",
    "            xy += x*y\n",
    "        return xy / (mt.sqrt(xx) * mt.sqrt(yy))\n",
    "    def show_name (self):\n",
    "        print (\"the current consine simularity is between: \"+self.name)\n",
    "    "
   ]
  },
  {
   "cell_type": "code",
   "execution_count": 4,
   "metadata": {},
   "outputs": [
    {
     "data": {
      "text/plain": [
       "0.8270704831183278"
      ]
     },
     "execution_count": 4,
     "metadata": {},
     "output_type": "execute_result"
    }
   ],
   "source": [
    "a = [2,3,4,5]\n",
    "b = [4,6,2,3]\n",
    "s = cosine_sim(\"test for a and b\")\n",
    "s.cos_sim(a,b)\n"
   ]
  },
  {
   "cell_type": "code",
   "execution_count": 5,
   "metadata": {},
   "outputs": [
    {
     "name": "stdout",
     "output_type": "stream",
     "text": [
      "the current consine simularity is between: test for a and b\n"
     ]
    }
   ],
   "source": [
    "s.show_name()"
   ]
  },
  {
   "cell_type": "code",
   "execution_count": 6,
   "metadata": {},
   "outputs": [
    {
     "data": {
      "text/plain": [
       "['information',\n",
       " 'Content based.ipynb',\n",
       " 'practice_data.csv',\n",
       " 'recommender_materials.ipynb',\n",
       " 'Lu-Final.ipynb',\n",
       " 'README.md',\n",
       " 'cosine_similarity_hw_Lu.ipynb',\n",
       " '-Copy1.ipynb',\n",
       " '.ipynb',\n",
       " 'Lu_cosine_similarity.ipynb',\n",
       " '.ipynb_checkpoints',\n",
       " 'practice_data.xlsx',\n",
       " '.git']"
      ]
     },
     "execution_count": 6,
     "metadata": {},
     "output_type": "execute_result"
    }
   ],
   "source": [
    "os.listdir()"
   ]
  },
  {
   "cell_type": "code",
   "execution_count": 7,
   "metadata": {},
   "outputs": [
    {
     "data": {
      "text/html": [
       "<div>\n",
       "<style scoped>\n",
       "    .dataframe tbody tr th:only-of-type {\n",
       "        vertical-align: middle;\n",
       "    }\n",
       "\n",
       "    .dataframe tbody tr th {\n",
       "        vertical-align: top;\n",
       "    }\n",
       "\n",
       "    .dataframe thead th {\n",
       "        text-align: right;\n",
       "    }\n",
       "</style>\n",
       "<table border=\"1\" class=\"dataframe\">\n",
       "  <thead>\n",
       "    <tr style=\"text-align: right;\">\n",
       "      <th></th>\n",
       "      <th>item no(left to right)</th>\n",
       "      <th>Male/Female</th>\n",
       "      <th>patten/ non-patten</th>\n",
       "      <th>blue/non-blue</th>\n",
       "      <th>black/non-black</th>\n",
       "      <th>green/non-green</th>\n",
       "      <th>color scale</th>\n",
       "      <th>collar</th>\n",
       "      <th>short sleeve/long</th>\n",
       "    </tr>\n",
       "  </thead>\n",
       "  <tbody>\n",
       "    <tr>\n",
       "      <th>0</th>\n",
       "      <td>1</td>\n",
       "      <td>0</td>\n",
       "      <td>1</td>\n",
       "      <td>1</td>\n",
       "      <td>0</td>\n",
       "      <td>0</td>\n",
       "      <td>0.5</td>\n",
       "      <td>1</td>\n",
       "      <td>0</td>\n",
       "    </tr>\n",
       "    <tr>\n",
       "      <th>1</th>\n",
       "      <td>2</td>\n",
       "      <td>0</td>\n",
       "      <td>0</td>\n",
       "      <td>1</td>\n",
       "      <td>0</td>\n",
       "      <td>0</td>\n",
       "      <td>0.9</td>\n",
       "      <td>1</td>\n",
       "      <td>1</td>\n",
       "    </tr>\n",
       "    <tr>\n",
       "      <th>2</th>\n",
       "      <td>3</td>\n",
       "      <td>0</td>\n",
       "      <td>1</td>\n",
       "      <td>0</td>\n",
       "      <td>1</td>\n",
       "      <td>0</td>\n",
       "      <td>1.0</td>\n",
       "      <td>1</td>\n",
       "      <td>0</td>\n",
       "    </tr>\n",
       "    <tr>\n",
       "      <th>3</th>\n",
       "      <td>4</td>\n",
       "      <td>1</td>\n",
       "      <td>0</td>\n",
       "      <td>1</td>\n",
       "      <td>0</td>\n",
       "      <td>0</td>\n",
       "      <td>0.3</td>\n",
       "      <td>0</td>\n",
       "      <td>0</td>\n",
       "    </tr>\n",
       "    <tr>\n",
       "      <th>4</th>\n",
       "      <td>5</td>\n",
       "      <td>1</td>\n",
       "      <td>1</td>\n",
       "      <td>0</td>\n",
       "      <td>0</td>\n",
       "      <td>1</td>\n",
       "      <td>0.5</td>\n",
       "      <td>0</td>\n",
       "      <td>1</td>\n",
       "    </tr>\n",
       "  </tbody>\n",
       "</table>\n",
       "</div>"
      ],
      "text/plain": [
       "   item no(left to right)  Male/Female  patten/ non-patten  blue/non-blue  \\\n",
       "0                       1            0                   1              1   \n",
       "1                       2            0                   0              1   \n",
       "2                       3            0                   1              0   \n",
       "3                       4            1                   0              1   \n",
       "4                       5            1                   1              0   \n",
       "\n",
       "   black/non-black  green/non-green  color scale  collar  short sleeve/long  \n",
       "0                0                0          0.5       1                  0  \n",
       "1                0                0          0.9       1                  1  \n",
       "2                1                0          1.0       1                  0  \n",
       "3                0                0          0.3       0                  0  \n",
       "4                0                1          0.5       0                  1  "
      ]
     },
     "execution_count": 7,
     "metadata": {},
     "output_type": "execute_result"
    }
   ],
   "source": [
    "cloth_data = pd.read_csv('practice_data.csv')\n",
    "cloth_data.head()"
   ]
  },
  {
   "cell_type": "code",
   "execution_count": 8,
   "metadata": {},
   "outputs": [
    {
     "data": {
      "text/html": [
       "<div>\n",
       "<style scoped>\n",
       "    .dataframe tbody tr th:only-of-type {\n",
       "        vertical-align: middle;\n",
       "    }\n",
       "\n",
       "    .dataframe tbody tr th {\n",
       "        vertical-align: top;\n",
       "    }\n",
       "\n",
       "    .dataframe thead th {\n",
       "        text-align: right;\n",
       "    }\n",
       "</style>\n",
       "<table border=\"1\" class=\"dataframe\">\n",
       "  <thead>\n",
       "    <tr style=\"text-align: right;\">\n",
       "      <th></th>\n",
       "      <th>Male/Female</th>\n",
       "      <th>patten/ non-patten</th>\n",
       "      <th>blue/non-blue</th>\n",
       "      <th>black/non-black</th>\n",
       "      <th>green/non-green</th>\n",
       "      <th>color scale</th>\n",
       "      <th>collar</th>\n",
       "      <th>short sleeve/long</th>\n",
       "    </tr>\n",
       "  </thead>\n",
       "  <tbody>\n",
       "    <tr>\n",
       "      <th>0</th>\n",
       "      <td>0</td>\n",
       "      <td>1</td>\n",
       "      <td>1</td>\n",
       "      <td>0</td>\n",
       "      <td>0</td>\n",
       "      <td>0.5</td>\n",
       "      <td>1</td>\n",
       "      <td>0</td>\n",
       "    </tr>\n",
       "    <tr>\n",
       "      <th>1</th>\n",
       "      <td>0</td>\n",
       "      <td>0</td>\n",
       "      <td>1</td>\n",
       "      <td>0</td>\n",
       "      <td>0</td>\n",
       "      <td>0.9</td>\n",
       "      <td>1</td>\n",
       "      <td>1</td>\n",
       "    </tr>\n",
       "    <tr>\n",
       "      <th>2</th>\n",
       "      <td>0</td>\n",
       "      <td>1</td>\n",
       "      <td>0</td>\n",
       "      <td>1</td>\n",
       "      <td>0</td>\n",
       "      <td>1.0</td>\n",
       "      <td>1</td>\n",
       "      <td>0</td>\n",
       "    </tr>\n",
       "    <tr>\n",
       "      <th>3</th>\n",
       "      <td>1</td>\n",
       "      <td>0</td>\n",
       "      <td>1</td>\n",
       "      <td>0</td>\n",
       "      <td>0</td>\n",
       "      <td>0.3</td>\n",
       "      <td>0</td>\n",
       "      <td>0</td>\n",
       "    </tr>\n",
       "    <tr>\n",
       "      <th>4</th>\n",
       "      <td>1</td>\n",
       "      <td>1</td>\n",
       "      <td>0</td>\n",
       "      <td>0</td>\n",
       "      <td>1</td>\n",
       "      <td>0.5</td>\n",
       "      <td>0</td>\n",
       "      <td>1</td>\n",
       "    </tr>\n",
       "  </tbody>\n",
       "</table>\n",
       "</div>"
      ],
      "text/plain": [
       "   Male/Female  patten/ non-patten  blue/non-blue  black/non-black  \\\n",
       "0            0                   1              1                0   \n",
       "1            0                   0              1                0   \n",
       "2            0                   1              0                1   \n",
       "3            1                   0              1                0   \n",
       "4            1                   1              0                0   \n",
       "\n",
       "   green/non-green  color scale  collar  short sleeve/long  \n",
       "0                0          0.5       1                  0  \n",
       "1                0          0.9       1                  1  \n",
       "2                0          1.0       1                  0  \n",
       "3                0          0.3       0                  0  \n",
       "4                1          0.5       0                  1  "
      ]
     },
     "execution_count": 8,
     "metadata": {},
     "output_type": "execute_result"
    }
   ],
   "source": [
    "cloth_data = cloth_data.drop(cloth_data.columns[0], axis=1).copy()\n",
    "cloth_data.head()"
   ]
  },
  {
   "cell_type": "code",
   "execution_count": 9,
   "metadata": {},
   "outputs": [],
   "source": [
    "# cloth_data=np.array(cloth_data)"
   ]
  },
  {
   "cell_type": "code",
   "execution_count": 10,
   "metadata": {},
   "outputs": [],
   "source": [
    "## mimics of user weight example:  male, like non-patten cloth, like deep blue color the best and gray for the second best, it is summer and don't want get too hot, have no preference for collar-cloth.  \n",
    "user1_preference_weight = [0,0.2,1,0.8,0.5,0.9,0.5,0.1]\n",
    "result=[]\n"
   ]
  },
  {
   "cell_type": "code",
   "execution_count": 11,
   "metadata": {},
   "outputs": [
    {
     "name": "stdout",
     "output_type": "stream",
     "text": [
      "[0.  1.  1.  0.  0.  0.5 1.  0. ]\n",
      "[0.  0.  1.  0.  0.  0.9 1.  1. ]\n",
      "[0. 1. 0. 1. 0. 1. 1. 0.]\n",
      "[1.  0.  1.  0.  0.  0.3 0.  0. ]\n",
      "[1.  1.  0.  0.  1.  0.5 0.  1. ]\n"
     ]
    },
    {
     "data": {
      "text/html": [
       "<div>\n",
       "<style scoped>\n",
       "    .dataframe tbody tr th:only-of-type {\n",
       "        vertical-align: middle;\n",
       "    }\n",
       "\n",
       "    .dataframe tbody tr th {\n",
       "        vertical-align: top;\n",
       "    }\n",
       "\n",
       "    .dataframe thead th {\n",
       "        text-align: right;\n",
       "    }\n",
       "</style>\n",
       "<table border=\"1\" class=\"dataframe\">\n",
       "  <thead>\n",
       "    <tr style=\"text-align: right;\">\n",
       "      <th></th>\n",
       "      <th>Male/Female</th>\n",
       "      <th>patten/ non-patten</th>\n",
       "      <th>blue/non-blue</th>\n",
       "      <th>black/non-black</th>\n",
       "      <th>green/non-green</th>\n",
       "      <th>color scale</th>\n",
       "      <th>collar</th>\n",
       "      <th>short sleeve/long</th>\n",
       "      <th>Cos_Similarity</th>\n",
       "    </tr>\n",
       "  </thead>\n",
       "  <tbody>\n",
       "    <tr>\n",
       "      <th>0</th>\n",
       "      <td>0</td>\n",
       "      <td>1</td>\n",
       "      <td>1</td>\n",
       "      <td>0</td>\n",
       "      <td>0</td>\n",
       "      <td>0.5</td>\n",
       "      <td>1</td>\n",
       "      <td>0</td>\n",
       "      <td>0.688551</td>\n",
       "    </tr>\n",
       "    <tr>\n",
       "      <th>1</th>\n",
       "      <td>0</td>\n",
       "      <td>0</td>\n",
       "      <td>1</td>\n",
       "      <td>0</td>\n",
       "      <td>0</td>\n",
       "      <td>0.9</td>\n",
       "      <td>1</td>\n",
       "      <td>1</td>\n",
       "      <td>0.712843</td>\n",
       "    </tr>\n",
       "    <tr>\n",
       "      <th>2</th>\n",
       "      <td>0</td>\n",
       "      <td>1</td>\n",
       "      <td>0</td>\n",
       "      <td>1</td>\n",
       "      <td>0</td>\n",
       "      <td>1.0</td>\n",
       "      <td>1</td>\n",
       "      <td>0</td>\n",
       "      <td>0.692820</td>\n",
       "    </tr>\n",
       "    <tr>\n",
       "      <th>3</th>\n",
       "      <td>1</td>\n",
       "      <td>0</td>\n",
       "      <td>1</td>\n",
       "      <td>0</td>\n",
       "      <td>0</td>\n",
       "      <td>0.3</td>\n",
       "      <td>0</td>\n",
       "      <td>0</td>\n",
       "      <td>0.507189</td>\n",
       "    </tr>\n",
       "    <tr>\n",
       "      <th>4</th>\n",
       "      <td>1</td>\n",
       "      <td>1</td>\n",
       "      <td>0</td>\n",
       "      <td>0</td>\n",
       "      <td>1</td>\n",
       "      <td>0.5</td>\n",
       "      <td>0</td>\n",
       "      <td>1</td>\n",
       "      <td>0.350070</td>\n",
       "    </tr>\n",
       "  </tbody>\n",
       "</table>\n",
       "</div>"
      ],
      "text/plain": [
       "   Male/Female  patten/ non-patten  blue/non-blue  black/non-black  \\\n",
       "0            0                   1              1                0   \n",
       "1            0                   0              1                0   \n",
       "2            0                   1              0                1   \n",
       "3            1                   0              1                0   \n",
       "4            1                   1              0                0   \n",
       "\n",
       "   green/non-green  color scale  collar  short sleeve/long  Cos_Similarity  \n",
       "0                0          0.5       1                  0        0.688551  \n",
       "1                0          0.9       1                  1        0.712843  \n",
       "2                0          1.0       1                  0        0.692820  \n",
       "3                0          0.3       0                  0        0.507189  \n",
       "4                1          0.5       0                  1        0.350070  "
      ]
     },
     "execution_count": 11,
     "metadata": {},
     "output_type": "execute_result"
    }
   ],
   "source": [
    "run = cosine_sim(\"cosine similarity between the user_preference_weight and Practice_data\")\n",
    "\n",
    "for row in cloth_data.values:\n",
    "    print(row)\n",
    "    result.append(run.cos_sim(row,user1_preference_weight))\n",
    "cloth_data['Cos_Similarity'] = result\n",
    "cloth_data"
   ]
  },
  {
   "cell_type": "code",
   "execution_count": null,
   "metadata": {},
   "outputs": [],
   "source": []
  },
  {
   "cell_type": "code",
   "execution_count": null,
   "metadata": {},
   "outputs": [],
   "source": []
  },
  {
   "cell_type": "code",
   "execution_count": null,
   "metadata": {},
   "outputs": [],
   "source": []
  }
 ],
 "metadata": {
  "kernelspec": {
   "display_name": "Python 3",
   "language": "python",
   "name": "python3"
  },
  "language_info": {
   "codemirror_mode": {
    "name": "ipython",
    "version": 3
   },
   "file_extension": ".py",
   "mimetype": "text/x-python",
   "name": "python",
   "nbconvert_exporter": "python",
   "pygments_lexer": "ipython3",
   "version": "3.8.2"
  }
 },
 "nbformat": 4,
 "nbformat_minor": 4
}
